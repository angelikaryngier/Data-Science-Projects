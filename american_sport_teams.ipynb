{
 "cells": [
  {
   "attachments": {},
   "cell_type": "markdown",
   "metadata": {},
   "source": [
    "In this project I work on a file of metropolitan regions and associated sports teams.\n",
    "\n",
    "For each sport I would like to answer the question: what is the win/loss ratio's correlation with the population of the city it is in? (Win/Loss ratio refers to the number of wins over the number of wins plus the number of losses.)\n",
    "\n",
    "I would also like to explore the hypothesis that given that an area has two sports teams in different sports, those teams will perform the same within their respective sports. I will do this with a series of paired t-tests between all pairs of sports.\n",
    "\n",
    "I'm using data from year 2018 for my analysis.\n",
    "\n",
    "Analysis is from the perspective of the metropolitan region (teams which are commonly known by a different area (e.g. \"Oakland Raiders\") will be mapped into the metropolitan region given (e.g. San Francisco Bay Area))."
   ]
  },
  {
   "cell_type": "code",
   "execution_count": 1,
   "metadata": {},
   "outputs": [],
   "source": [
    "import pandas as pd\n",
    "import numpy as np\n",
    "import scipy.stats as stats\n",
    "import re\n",
    "import lxml\n",
    "pd.options.mode.chained_assignment = None  # default='warn'"
   ]
  },
  {
   "cell_type": "code",
   "execution_count": 2,
   "metadata": {},
   "outputs": [
    {
     "data": {
      "text/plain": [
       "0.012486162921209923"
      ]
     },
     "execution_count": 2,
     "metadata": {},
     "output_type": "execute_result"
    }
   ],
   "source": [
    "nhl_df=pd.read_csv(\"data/american_sport_teams/nhl.csv\")\n",
    "cities=pd.read_html(\"data/american_sport_teams/wikipedia_data.htm\")[1]\n",
    "cities=cities.iloc[:-1,[0,3,5,6,7,8]]\n",
    "\n",
    "# extracting NHL team names from cities\n",
    "cities[\"NHL\"] = cities[\"NHL\"].str.strip().str.extract(\"(^[A-Z\\d]+[A-Za-z\\s]*)\")\n",
    "cities = cities[cities[\"NHL\"].notna()]\n",
    "\n",
    "cities.rename(columns={\"Population (2016 est.)[8]\":\"Population\"}, inplace=True)\n",
    "cities = cities.sort_values(by=\"Metropolitan area\")\n",
    "\n",
    "nhl_df = nhl_df[nhl_df[\"year\"]==2018]\n",
    "nhl_df = nhl_df[nhl_df[\"GP\"].str.isnumeric()]\n",
    "nhl_df = nhl_df.iloc[:, [0,2,3]]\n",
    "\n",
    "# extracting NHL team names from nhl_df\n",
    "nhl_df[\"team\"]=nhl_df[\"team\"].str.strip().str.extract(\"[A-Z]{1}[a-z.\\s]+([A-Za-z\\s\\d]+[a-z]+)\")\n",
    "nhl_df[\"team\"][nhl_df[\"team\"].str.contains(\"Lightning\")]=\"Lightning\"\n",
    "nhl_df[\"team\"][nhl_df[\"team\"].str.contains(\"Devils\")]=\"Devils\"\n",
    "nhl_df[\"team\"][nhl_df[\"team\"].str.contains(\"Islanders\")]=\"Islanders\"\n",
    "nhl_df[\"team\"][nhl_df[\"team\"].str.contains(\"Rangers\")]=\"Rangers\"\n",
    "nhl_df[\"team\"][nhl_df[\"team\"].str.contains(\"Blues\")]=\"Blues\"\n",
    "nhl_df[\"team\"][nhl_df[\"team\"].str.contains(\"Sharks\")]=\"Sharks\"\n",
    "nhl_df[\"team\"][nhl_df[\"team\"].str.contains(\"Kings\")]=\"Kings\"\n",
    "\n",
    "# calulating win/loss ratio\n",
    "nhl_df[\"win/loss ratio\"]=nhl_df[\"W\"].astype(int)/(nhl_df[\"W\"].astype(int)+nhl_df[\"L\"].astype(int))\n",
    "\n",
    "#merging cities with nhl_df on team names\n",
    "nhl_df = pd.merge(nhl_df, cities, left_on=\"team\", right_on=\"NHL\", how=\"outer\")\n",
    "\n",
    "nhl_df[\"Metropolitan area\"][nhl_df[\"team\"]==\"Rangers\"]=\"New York City\"\n",
    "nhl_df[\"Metropolitan area\"][nhl_df[\"team\"]==\"Islanders\"]=\"New York City\"\n",
    "nhl_df[\"Metropolitan area\"][nhl_df[\"team\"]==\"Devils\"]=\"New York City\"\n",
    "nhl_df[\"Metropolitan area\"][nhl_df[\"team\"]==\"Kings\"]=\"Los Angeles\"\n",
    "nhl_df[\"Metropolitan area\"][nhl_df[\"team\"]==\"Ducks\"]=\"Los Angeles\"\n",
    "nhl_df.drop([31,32], inplace=True)\n",
    "\n",
    "nhl_df= nhl_df.groupby(\"Metropolitan area\")[\"win/loss ratio\"].mean().sort_index()\n",
    "nhl_df.name=\"NHL\"\n",
    "\n",
    "# calculating hockey teams win/loss ratio's correlation with the population of the city it is in\n",
    "def nhl_correlation():    \n",
    "    population_by_region = cities[\"Population\"].astype(int)\n",
    "    return stats.pearsonr(population_by_region, nhl_df)\n",
    "\n",
    "corr_nhl, p_val_nhl = nhl_correlation()\n",
    "corr_nhl"
   ]
  },
  {
   "cell_type": "code",
   "execution_count": 3,
   "metadata": {},
   "outputs": [
    {
     "data": {
      "text/plain": [
       "-0.17657160252844623"
      ]
     },
     "execution_count": 3,
     "metadata": {},
     "output_type": "execute_result"
    }
   ],
   "source": [
    "nba_df=pd.read_csv(\"data/american_sport_teams/nba.csv\")\n",
    "cities=pd.read_html(\"data/american_sport_teams/wikipedia_data.htm\")[1]\n",
    "cities=cities.iloc[:-1,[0,3,5,6,7,8]]\n",
    "\n",
    "# extracting NBA team names from cities\n",
    "cities[\"NBA\"] = cities[\"NBA\"].str.strip().str.extract(\"(^[A-Z\\d]+[A-Za-z\\s]*)\")\n",
    "cities = cities[cities[\"NBA\"].notna()]\n",
    "\n",
    "cities.rename(columns={\"Population (2016 est.)[8]\":\"Population\"}, inplace=True)\n",
    "cities = cities.sort_values(by=\"Metropolitan area\")\n",
    "\n",
    "nba_df = nba_df[nba_df[\"year\"]==2018]\n",
    "nba_df = nba_df.iloc[:, [0,1,2]]\n",
    "\n",
    "# extracting NBA team names from nba_df\n",
    "nba_df[\"team\"]=nba_df[\"team\"].str.strip().str.extract(\"[A-Z]{1}[a-z.\\s]+([A-Za-z\\s\\d]+[a-z]+)\")\n",
    "nba_df[\"team\"][nba_df[\"team\"].str.contains(\"Knicks\")]=\"Knicks\"\n",
    "nba_df[\"team\"][nba_df[\"team\"].str.contains(\"Warriors\")]=\"Warriors\"\n",
    "nba_df[\"team\"][nba_df[\"team\"].str.contains(\"Thunder\")]=\"Thunder\"\n",
    "nba_df[\"team\"][nba_df[\"team\"].str.contains(\"Pelicans\")]=\"Pelicans\"\n",
    "nba_df[\"team\"][nba_df[\"team\"].str.contains(\"Spurs\")]=\"Spurs\"\n",
    "nba_df[\"team\"][nba_df[\"team\"].str.contains(\"Clippers\")]=\"Clippers\"\n",
    "nba_df[\"team\"][nba_df[\"team\"].str.contains(\"Lakers\")]=\"Lakers\"\n",
    "\n",
    "# calulating win/loss ratio\n",
    "nba_df[\"win/loss ratio\"]=nba_df[\"W\"].astype(int)/(nba_df[\"W\"].astype(int)+nba_df[\"L\"].astype(int))\n",
    "\n",
    "# merging cities with nba_df on team names\n",
    "nba_df = pd.merge(nba_df, cities, left_on=\"team\", right_on=\"NBA\", how=\"outer\")\n",
    "\n",
    "nba_df[\"Metropolitan area\"][nba_df[\"team\"]==\"Knicks\"]=\"New York City\"\n",
    "nba_df[\"Metropolitan area\"][nba_df[\"team\"]==\"Nets\"]=\"New York City\"\n",
    "nba_df[\"Metropolitan area\"][nba_df[\"team\"]==\"Lakers\"]=\"Los Angeles\"\n",
    "nba_df[\"Metropolitan area\"][nba_df[\"team\"]==\"Clippers\"]=\"Los Angeles\"\n",
    "nba_df.drop([30,31], inplace=True)\n",
    "\n",
    "nba_df = nba_df.groupby(\"Metropolitan area\")[\"win/loss ratio\"].mean().sort_index()\n",
    "nba_df.name=\"NBA\"\n",
    "\n",
    "# calculating basketball teams win/loss ratio's correlation with the population of the city it is in\n",
    "def nba_correlation():  \n",
    "    population_by_region = cities[\"Population\"].astype(int)\n",
    "    return stats.pearsonr(population_by_region, nba_df)\n",
    "\n",
    "corr_nba, p_val_nba = nba_correlation()\n",
    "corr_nba"
   ]
  },
  {
   "cell_type": "code",
   "execution_count": 4,
   "metadata": {},
   "outputs": [
    {
     "data": {
      "text/plain": [
       "0.15027698302669307"
      ]
     },
     "execution_count": 4,
     "metadata": {},
     "output_type": "execute_result"
    }
   ],
   "source": [
    "mlb_df=pd.read_csv(\"data/american_sport_teams/mlb.csv\")\n",
    "cities=pd.read_html(\"data/american_sport_teams/wikipedia_data.htm\")[1]\n",
    "cities=cities.iloc[:-1,[0,3,5,6,7,8]]\n",
    "\n",
    "# extracting MLB team names from cities\n",
    "cities[\"MLB\"] = cities[\"MLB\"].str.strip().str.extract(\"(^[A-Z\\d]+[A-Za-z\\s]*)\")\n",
    "cities = cities[cities[\"MLB\"].notna()]\n",
    "cities.rename(columns={\"Population (2016 est.)[8]\":\"Population\"}, inplace=True)\n",
    "cities = cities.sort_values(by=\"Metropolitan area\")\n",
    "\n",
    "mlb_df = mlb_df[mlb_df[\"year\"]==2018]\n",
    "mlb_df = mlb_df.iloc[:, [0,1,2]]\n",
    "\n",
    "# extracting MLB team names from mlb_df\n",
    "mlb_df[\"team\"]=mlb_df[\"team\"].str.strip().str.extract(\"[A-Z]{1}[a-z.\\s]+([A-Za-z\\s\\d]+[a-z]+)\")\n",
    "mlb_df[\"team\"][mlb_df[\"team\"].str.contains(\"Yankees\")]=\"Yankees\"\n",
    "mlb_df[\"team\"][mlb_df[\"team\"].str.contains(\"Rays\")]=\"Rays\"\n",
    "mlb_df[\"team\"][mlb_df[\"team\"].str.contains(\"Royals\")]=\"Royals\"\n",
    "mlb_df[\"team\"][mlb_df[\"team\"].str.contains(\"Angels\")]=\"Angels\"\n",
    "mlb_df[\"team\"][mlb_df[\"team\"].str.contains(\"Mets\")]=\"Mets\"\n",
    "mlb_df[\"team\"][mlb_df[\"team\"].str.contains(\"Cardinals\")]=\"Cardinals\"\n",
    "mlb_df[\"team\"][mlb_df[\"team\"].str.contains(\"Dodgers\")]=\"Dodgers\"\n",
    "mlb_df[\"team\"][mlb_df[\"team\"].str.contains(\"Giants\")]=\"Giants\"\n",
    "mlb_df[\"team\"][mlb_df[\"team\"].str.contains(\"Padres\")]=\"Padres\"\n",
    "\n",
    "# calulating win/loss ratio\n",
    "mlb_df[\"win/loss ratio\"]=mlb_df[\"W\"].astype(int)/(mlb_df[\"W\"].astype(int)+mlb_df[\"L\"].astype(int))\n",
    "\n",
    "#merging cities with nba_df on team names\n",
    "mlb_df = pd.merge(mlb_df, cities.iloc[:,[0,3]], left_on=\"team\", right_on=\"MLB\", how=\"outer\")\n",
    "\n",
    "mlb_df[\"Metropolitan area\"][mlb_df[\"team\"]==\"Yankees\"]=\"New York City\"\n",
    "mlb_df[\"Metropolitan area\"][mlb_df[\"team\"]==\"Mets\"]=\"New York City\"\n",
    "mlb_df[\"Metropolitan area\"][mlb_df[\"team\"]==\"Dodgers\"]=\"Los Angeles\"\n",
    "mlb_df[\"Metropolitan area\"][mlb_df[\"team\"]==\"Angels\"]=\"Los Angeles\"\n",
    "mlb_df[\"Metropolitan area\"][mlb_df[\"team\"]==\"Cubs\"]=\"Chicago\"\n",
    "mlb_df[\"Metropolitan area\"][mlb_df[\"team\"]==\"White Sox\"]=\"Chicago\"\n",
    "mlb_df[\"Metropolitan area\"][mlb_df[\"team\"]==\"Giants\"]=\"San Francisco Bay Area\"\n",
    "mlb_df[\"Metropolitan area\"][mlb_df[\"team\"]==\"Athletics\"]=\"San Francisco Bay Area\"\n",
    "\n",
    "mlb_df.drop([30,31,32,33], inplace=True)\n",
    "mlb_df = mlb_df.groupby(\"Metropolitan area\")[\"win/loss ratio\"].mean().sort_index()\n",
    "mlb_df.name=\"MLB\"\n",
    "\n",
    "# calculating baseball teams win/loss ratio's correlation with the population of the city it is in\n",
    "def mlb_correlation(): \n",
    "    population_by_region = cities[\"Population\"].astype(int)\n",
    "    return stats.pearsonr(population_by_region, mlb_df)\n",
    "\n",
    "corr_mlb, p_val_mlb = mlb_correlation()\n",
    "corr_mlb\n"
   ]
  },
  {
   "cell_type": "code",
   "execution_count": 5,
   "metadata": {},
   "outputs": [
    {
     "data": {
      "text/plain": [
       "0.004922112149349409"
      ]
     },
     "execution_count": 5,
     "metadata": {},
     "output_type": "execute_result"
    }
   ],
   "source": [
    "nfl_df=pd.read_csv(\"data/american_sport_teams/nfl.csv\")\n",
    "cities=pd.read_html(\"data/american_sport_teams/wikipedia_data.htm\")[1]\n",
    "cities=cities.iloc[:-1,[0,3,5,6,7,8]]\n",
    "nfl_df=nfl_df[nfl_df[\"year\"]==2018]\n",
    "\n",
    "# extracting NFL team names from cities\n",
    "cities[\"NFL\"] = cities[\"NFL\"].str.strip().str.extract(\"(^[A-Z\\d]+[A-Za-z\\s]*)\")\n",
    "cities = cities[cities[\"NFL\"].notna()]\n",
    "\n",
    "cities.rename(columns={\"Population (2016 est.)[8]\":\"Population\"}, inplace=True)\n",
    "cities = cities.sort_values(by=\"Metropolitan area\")\n",
    "\n",
    "nfl_df = nfl_df.loc[:, [\"team\", \"W\", \"L\"]]\n",
    "nfl_df = nfl_df[nfl_df[\"L\"].str.isnumeric()]\n",
    "\n",
    "# extracting NFL team names from nfl_df\n",
    "nfl_df[\"team\"]=nfl_df[\"team\"].str.strip().str.extract(\"[A-Z]{1}[a-z.\\s]+([A-Za-z\\s\\d]+[a-z]+)\")\n",
    "nfl_df[\"team\"][nfl_df[\"team\"].str.contains(\"Patriots\")]=\"Patriots\"\n",
    "nfl_df[\"team\"][nfl_df[\"team\"].str.contains(\"Jets\")]=\"Jets\"\n",
    "nfl_df[\"team\"][nfl_df[\"team\"].str.contains(\"Chiefs\")]=\"Chiefs\"\n",
    "nfl_df[\"team\"][nfl_df[\"team\"].str.contains(\"Chargers\")]=\"Chargers\"\n",
    "nfl_df[\"team\"][nfl_df[\"team\"].str.contains(\"Giants\")]=\"Giants\"\n",
    "nfl_df[\"team\"][nfl_df[\"team\"].str.contains(\"Packers\")]=\"Packers\"\n",
    "nfl_df[\"team\"][nfl_df[\"team\"].str.contains(\"Saints\")]=\"Saints\"\n",
    "nfl_df[\"team\"][nfl_df[\"team\"].str.contains(\"Buccaneers\")]=\"Buccaneers\"\n",
    "nfl_df[\"team\"][nfl_df[\"team\"].str.contains(\"Rams\")]=\"Rams\"\n",
    "nfl_df[\"team\"][nfl_df[\"team\"].str.contains(\"49ers\")]=\"49ers\"\n",
    "\n",
    "# calulating win/loss ratio\n",
    "nfl_df[\"win/loss ratio\"]=nfl_df[\"W\"].astype(int)/(nfl_df[\"W\"].astype(int)+nfl_df[\"L\"].astype(int))\n",
    "\n",
    "# merging cities with nfl_df on team names\n",
    "nfl_df = pd.merge(nfl_df, cities, left_on=\"team\", right_on=\"NFL\", how=\"outer\")\n",
    "\n",
    "nfl_df[\"Metropolitan area\"][nfl_df[\"team\"]==\"Giants\"]=\"New York City\"\n",
    "nfl_df[\"Metropolitan area\"][nfl_df[\"team\"]==\"Jets\"]=\"New York City\"\n",
    "nfl_df[\"Metropolitan area\"][nfl_df[\"team\"]==\"Rams\"]=\"Los Angeles\"\n",
    "nfl_df[\"Metropolitan area\"][nfl_df[\"team\"]==\"Chargers\"]=\"Los Angeles\"\n",
    "nfl_df[\"Metropolitan area\"][nfl_df[\"team\"]==\"49ers\"]=\"San Francisco Bay Area\"\n",
    "nfl_df[\"Metropolitan area\"][nfl_df[\"team\"]==\"Raiders\"]=\"San Francisco Bay Area\"\n",
    "nfl_df.drop([32,33,34], inplace=True)\n",
    "\n",
    "nfl_df = nfl_df.groupby(\"Metropolitan area\")[\"win/loss ratio\"].mean().sort_index()\n",
    "nfl_df.name=\"NFL\"\n",
    "\n",
    "# calculating football teams win/loss ratio's correlation with the population of the city it is in\n",
    "def nfl_correlation(): \n",
    "    population_by_region = cities[\"Population\"].astype(int) \n",
    "    return stats.pearsonr(population_by_region, nfl_df)\n",
    "\n",
    "corr_nfl, p_val_nfl = nfl_correlation()\n",
    "corr_nfl\n",
    "\n"
   ]
  },
  {
   "cell_type": "code",
   "execution_count": 6,
   "metadata": {},
   "outputs": [
    {
     "data": {
      "text/html": [
       "<div>\n",
       "<style scoped>\n",
       "    .dataframe tbody tr th:only-of-type {\n",
       "        vertical-align: middle;\n",
       "    }\n",
       "\n",
       "    .dataframe tbody tr th {\n",
       "        vertical-align: top;\n",
       "    }\n",
       "\n",
       "    .dataframe thead th {\n",
       "        text-align: right;\n",
       "    }\n",
       "</style>\n",
       "<table border=\"1\" class=\"dataframe\">\n",
       "  <thead>\n",
       "    <tr style=\"text-align: right;\">\n",
       "      <th></th>\n",
       "      <th>NFL</th>\n",
       "      <th>NBA</th>\n",
       "      <th>NHL</th>\n",
       "      <th>MLB</th>\n",
       "    </tr>\n",
       "  </thead>\n",
       "  <tbody>\n",
       "    <tr>\n",
       "      <th>NFL</th>\n",
       "      <td>NaN</td>\n",
       "      <td>0.941792</td>\n",
       "      <td>0.030883</td>\n",
       "      <td>0.802069</td>\n",
       "    </tr>\n",
       "    <tr>\n",
       "      <th>NBA</th>\n",
       "      <td>0.941792</td>\n",
       "      <td>NaN</td>\n",
       "      <td>0.022297</td>\n",
       "      <td>0.950540</td>\n",
       "    </tr>\n",
       "    <tr>\n",
       "      <th>NHL</th>\n",
       "      <td>0.030883</td>\n",
       "      <td>0.022297</td>\n",
       "      <td>NaN</td>\n",
       "      <td>0.000708</td>\n",
       "    </tr>\n",
       "    <tr>\n",
       "      <th>MLB</th>\n",
       "      <td>0.802069</td>\n",
       "      <td>0.950540</td>\n",
       "      <td>0.000708</td>\n",
       "      <td>NaN</td>\n",
       "    </tr>\n",
       "  </tbody>\n",
       "</table>\n",
       "</div>"
      ],
      "text/plain": [
       "          NFL       NBA       NHL       MLB\n",
       "NFL       NaN  0.941792  0.030883  0.802069\n",
       "NBA  0.941792       NaN  0.022297  0.950540\n",
       "NHL  0.030883  0.022297       NaN  0.000708\n",
       "MLB  0.802069  0.950540  0.000708       NaN"
      ]
     },
     "execution_count": 6,
     "metadata": {},
     "output_type": "execute_result"
    }
   ],
   "source": [
    "cities=pd.read_html(\"data/american_sport_teams/wikipedia_data.htm\")[1]\n",
    "cities=cities.iloc[:-1,[0,5,6,7,8]]\n",
    "\n",
    "# extracting sport team names from cities\n",
    "cities[\"NFL\"] = cities[\"NFL\"].str.strip().str.extract(\"(^[A-Z\\d]+[A-Za-z\\s]*)\")\n",
    "cities[\"MLB\"] = cities[\"MLB\"].str.strip().str.extract(\"(^[A-Z\\d]+[A-Za-z\\s]*)\")\n",
    "cities[\"NBA\"] = cities[\"NBA\"].str.strip().str.extract(\"(^[A-Z\\d]+[A-Za-z\\s]*)\")\n",
    "cities[\"NHL\"] = cities[\"NHL\"].str.strip().str.extract(\"(^[A-Z\\d]+[A-Za-z\\s]*)\")\n",
    "\n",
    "big4 = [mlb_df, nfl_df, nhl_df, nba_df]\n",
    "\n",
    "\n",
    "def sports_team_performance():\n",
    "    sports = ['NFL', 'NBA', 'NHL', 'MLB']\n",
    "    # creating empty data frame with sport names in rows and columns\n",
    "    p_values = pd.DataFrame({k:np.nan for k in sports}, index=sports)\n",
    "    for i in range(3):\n",
    "        j=i+1\n",
    "        while j<4:\n",
    "            # merging sports win/loss ratio on metropolitan area\n",
    "            sports_merged=pd.merge(big4[i], big4[j], left_index=True, right_index=True)\n",
    "            t_stat, p_val = stats.ttest_rel(sports_merged.iloc[:,0], sports_merged.iloc[:,1])\n",
    "            # adding p-values to data frame\n",
    "            p_values.loc[big4[i].name,big4[j].name]=p_val\n",
    "            p_values.loc[big4[j].name,big4[i].name]=p_val\n",
    "            j+=1\n",
    "    return p_values\n",
    "\n",
    "p_values=sports_team_performance()\n",
    "p_values"
   ]
  },
  {
   "attachments": {},
   "cell_type": "markdown",
   "metadata": {},
   "source": [
    "As we can see abowe, we can reject the null hypothesis (at the 0.05 significance level) that given that an area has two sports teams in different sports, those teams will perform the same within their respective sports for three pairs of sports: (NHL, NFL), (NHL, NBA) and (NHL, MLB)."
   ]
  }
 ],
 "metadata": {
  "kernelspec": {
   "display_name": "Python 3.11.0 64-bit",
   "language": "python",
   "name": "python3"
  },
  "language_info": {
   "codemirror_mode": {
    "name": "ipython",
    "version": 3
   },
   "file_extension": ".py",
   "mimetype": "text/x-python",
   "name": "python",
   "nbconvert_exporter": "python",
   "pygments_lexer": "ipython3",
   "version": "3.11.0"
  },
  "orig_nbformat": 4,
  "vscode": {
   "interpreter": {
    "hash": "5238573367df39f7286bb46f9ff5f08f63a01a80960060ce41e3c79b190280fa"
   }
  }
 },
 "nbformat": 4,
 "nbformat_minor": 2
}
