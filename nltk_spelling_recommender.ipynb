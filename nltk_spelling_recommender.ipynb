{
 "cells": [
  {
   "attachments": {},
   "cell_type": "markdown",
   "metadata": {},
   "source": [
    "### Spelling Recommender\n",
    "\n",
    "I will create two different spelling recommenders, that each take a list of misspelled words and recommends a correctly spelled word for every word in the list.\n",
    "\n",
    "For every misspelled word, the recommender will find the word in correct_spellings that has the shortest distance (each of the two different recommenders will use a different distance measure), and starts with the same letter as the misspelled word, and return that word as a recommendation."
   ]
  },
  {
   "cell_type": "code",
   "execution_count": 2,
   "metadata": {},
   "outputs": [],
   "source": [
    "import nltk\n",
    "from nltk.corpus import words\n",
    "from nltk.util import ngrams\n",
    "\n",
    "correct_spellings = words.words()"
   ]
  },
  {
   "attachments": {},
   "cell_type": "markdown",
   "metadata": {},
   "source": [
    "Jaccard distance on the ngrams of the two words."
   ]
  },
  {
   "cell_type": "code",
   "execution_count": 15,
   "metadata": {},
   "outputs": [
    {
     "name": "stdout",
     "output_type": "stream",
     "text": [
      "Spelling recomendations for words:\n",
      " ['cormulent', 'incendenece', 'validrate'] \n",
      " using Jaccard distance on the trigrams of the two words:\n",
      " ['corpulent', 'indecence', 'validate'] using Jaccard distance on the 4-grams of the two words:\n",
      " ['cormus', 'incendiary', 'valid']\n"
     ]
    }
   ],
   "source": [
    "def jaccard_on_ngrams(misspelled_words, ngrams_deg=3):\n",
    "    reccomendation_list=[]\n",
    "    for entry in misspelled_words:\n",
    "        distance=nltk.jaccard_distance(set(ngrams(entry, ngrams_deg)), set(ngrams(correct_spellings[0], ngrams_deg)))\n",
    "        reccomendation = ''\n",
    "        for word in correct_spellings:\n",
    "            if word[0]==entry[0] and nltk.jaccard_distance(set(ngrams(entry, ngrams_deg)), set(ngrams(word, ngrams_deg))) < distance:\n",
    "                distance = nltk.jaccard_distance(set(ngrams(entry, ngrams_deg)), set(ngrams(word, ngrams_deg)))\n",
    "                reccomendation = word\n",
    "        reccomendation_list.append(reccomendation)\n",
    "    return reccomendation_list\n",
    "\n",
    "misspelled_words=['cormulent', 'incendenece', 'validrate']    \n",
    "print('Spelling recomendations for words:\\n',\n",
    "      misspelled_words,'\\n',\n",
    "      'using Jaccard distance on the trigrams of the two words:\\n',\n",
    "      jaccard_on_ngrams(misspelled_words),\n",
    "      'using Jaccard distance on the 4-grams of the two words:\\n',\n",
    "      jaccard_on_ngrams(misspelled_words, 4))"
   ]
  },
  {
   "attachments": {},
   "cell_type": "markdown",
   "metadata": {},
   "source": [
    "Edit distance on the two words with transpositions."
   ]
  },
  {
   "cell_type": "code",
   "execution_count": 17,
   "metadata": {},
   "outputs": [
    {
     "name": "stdout",
     "output_type": "stream",
     "text": [
      "Spelling recomendations for words:\n",
      " ['cormulent', 'incendenece', 'validrate'] \n",
      " using Edit distance on the two words with transpositions.:\n",
      " ['corpulent', 'intendence', 'validate']\n"
     ]
    }
   ],
   "source": [
    "def edit_with_transpositions(misspelled_words):\n",
    "    reccomendation_list=[]\n",
    "    for entry in misspelled_words:\n",
    "        distance = nltk.edit_distance(entry, correct_spellings[0], transpositions=True)\n",
    "        reccomendation = ''\n",
    "        for word in correct_spellings:\n",
    "            if entry[0]==word[0] and nltk.edit_distance(entry, word, transpositions=True) < distance:\n",
    "                distance = nltk.edit_distance(entry, word, transpositions=True)\n",
    "                reccomendation = word\n",
    "        reccomendation_list.append(reccomendation)\n",
    "    return reccomendation_list \n",
    "\n",
    "misspelled_words=['cormulent', 'incendenece', 'validrate']   \n",
    "print('Spelling recomendations for words:\\n',\n",
    "      misspelled_words,'\\n',\n",
    "      'using Edit distance on the two words with transpositions.:\\n',\n",
    "      edit_with_transpositions(misspelled_words))"
   ]
  }
 ],
 "metadata": {
  "kernelspec": {
   "display_name": "Python 3",
   "language": "python",
   "name": "python3"
  },
  "language_info": {
   "codemirror_mode": {
    "name": "ipython",
    "version": 3
   },
   "file_extension": ".py",
   "mimetype": "text/x-python",
   "name": "python",
   "nbconvert_exporter": "python",
   "pygments_lexer": "ipython3",
   "version": "3.11.0"
  },
  "orig_nbformat": 4,
  "vscode": {
   "interpreter": {
    "hash": "5238573367df39f7286bb46f9ff5f08f63a01a80960060ce41e3c79b190280fa"
   }
  }
 },
 "nbformat": 4,
 "nbformat_minor": 2
}
